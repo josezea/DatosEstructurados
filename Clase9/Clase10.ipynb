{
 "cells": [
  {
   "cell_type": "code",
   "execution_count": 1,
   "metadata": {},
   "outputs": [],
   "source": [
    "import pandas as pd\n",
    "import json"
   ]
  },
  {
   "cell_type": "code",
   "execution_count": 5,
   "metadata": {},
   "outputs": [],
   "source": [
    "datos_dicc = [{'ID':1,'Nombre':'Hector', 'edad':20, 'mencion_gaseosa':['Coca-Cola','Colombiana','Pepsi'], \n",
    "                  'hobbies':['Musica', 'Correr']},\n",
    "                {'ID':2,'Nombre':'Carolina', 'edad':40, 'mencion_gaseosa':['Coca-Cola','Manzana Postobón','Sprite'], \n",
    "                  'hobbies':'Cine'},\n",
    "                {'ID':3, 'edad':27, 'mencion_gaseosa':['Coca-Cola','Colombiana','Pepsi'], \n",
    "                  'hobbies':['Escribir', 'Viajar']},\n",
    "                {'ID':4,'Nombre':'Camila', 'edad':18, 'mencion_gaseosa':['Pepsi','Coca-Cola']},\n",
    "                {'ID':5,'Nombre':'Jose', 'edad':50, 'mencion_gaseosa':['Coca-Cola'], \n",
    "                  'hobbies':'Programar'}]"
   ]
  },
  {
   "cell_type": "code",
   "execution_count": 20,
   "metadata": {},
   "outputs": [
    {
     "data": {
      "text/html": [
       "<div>\n",
       "<style scoped>\n",
       "    .dataframe tbody tr th:only-of-type {\n",
       "        vertical-align: middle;\n",
       "    }\n",
       "\n",
       "    .dataframe tbody tr th {\n",
       "        vertical-align: top;\n",
       "    }\n",
       "\n",
       "    .dataframe thead th {\n",
       "        text-align: right;\n",
       "    }\n",
       "</style>\n",
       "<table border=\"1\" class=\"dataframe\">\n",
       "  <thead>\n",
       "    <tr style=\"text-align: right;\">\n",
       "      <th></th>\n",
       "      <th>ID</th>\n",
       "      <th>Nombre</th>\n",
       "      <th>edad</th>\n",
       "      <th>mencion_gaseosa</th>\n",
       "      <th>hobbies</th>\n",
       "    </tr>\n",
       "  </thead>\n",
       "  <tbody>\n",
       "    <tr>\n",
       "      <th>0</th>\n",
       "      <td>1</td>\n",
       "      <td>Hector</td>\n",
       "      <td>20</td>\n",
       "      <td>[Coca-Cola, Colombiana, Pepsi]</td>\n",
       "      <td>[Musica, Correr]</td>\n",
       "    </tr>\n",
       "    <tr>\n",
       "      <th>1</th>\n",
       "      <td>2</td>\n",
       "      <td>Carolina</td>\n",
       "      <td>40</td>\n",
       "      <td>[Coca-Cola, Manzana Postobón, Sprite]</td>\n",
       "      <td>Cine</td>\n",
       "    </tr>\n",
       "    <tr>\n",
       "      <th>2</th>\n",
       "      <td>3</td>\n",
       "      <td>NaN</td>\n",
       "      <td>27</td>\n",
       "      <td>[Coca-Cola, Colombiana, Pepsi]</td>\n",
       "      <td>[Escribir, Viajar]</td>\n",
       "    </tr>\n",
       "    <tr>\n",
       "      <th>3</th>\n",
       "      <td>4</td>\n",
       "      <td>Camila</td>\n",
       "      <td>18</td>\n",
       "      <td>[Pepsi, Coca-Cola]</td>\n",
       "      <td>NaN</td>\n",
       "    </tr>\n",
       "    <tr>\n",
       "      <th>4</th>\n",
       "      <td>5</td>\n",
       "      <td>Jose</td>\n",
       "      <td>50</td>\n",
       "      <td>[Coca-Cola]</td>\n",
       "      <td>Programar</td>\n",
       "    </tr>\n",
       "  </tbody>\n",
       "</table>\n",
       "</div>"
      ],
      "text/plain": [
       "   ID    Nombre  edad                        mencion_gaseosa  \\\n",
       "0   1    Hector    20         [Coca-Cola, Colombiana, Pepsi]   \n",
       "1   2  Carolina    40  [Coca-Cola, Manzana Postobón, Sprite]   \n",
       "2   3       NaN    27         [Coca-Cola, Colombiana, Pepsi]   \n",
       "3   4    Camila    18                     [Pepsi, Coca-Cola]   \n",
       "4   5      Jose    50                            [Coca-Cola]   \n",
       "\n",
       "              hobbies  \n",
       "0    [Musica, Correr]  \n",
       "1                Cine  \n",
       "2  [Escribir, Viajar]  \n",
       "3                 NaN  \n",
       "4           Programar  "
      ]
     },
     "execution_count": 20,
     "metadata": {},
     "output_type": "execute_result"
    }
   ],
   "source": [
    "datos=pd.json_normalize(datos_dicc)\n",
    "datos"
   ]
  },
  {
   "cell_type": "code",
   "execution_count": 15,
   "metadata": {},
   "outputs": [
    {
     "data": {
      "text/plain": [
       "[['Coca-Cola', 'Colombiana', 'Pepsi'],\n",
       " ['Coca-Cola', 'Manzana Postobón', 'Sprite'],\n",
       " ['Coca-Cola', 'Colombiana', 'Pepsi'],\n",
       " ['Pepsi', 'Coca-Cola'],\n",
       " ['Coca-Cola']]"
      ]
     },
     "execution_count": 15,
     "metadata": {},
     "output_type": "execute_result"
    }
   ],
   "source": [
    "datos.mencion_gaseosa.values.tolist()"
   ]
  },
  {
   "cell_type": "code",
   "execution_count": 16,
   "metadata": {},
   "outputs": [
    {
     "data": {
      "text/html": [
       "<div>\n",
       "<style scoped>\n",
       "    .dataframe tbody tr th:only-of-type {\n",
       "        vertical-align: middle;\n",
       "    }\n",
       "\n",
       "    .dataframe tbody tr th {\n",
       "        vertical-align: top;\n",
       "    }\n",
       "\n",
       "    .dataframe thead th {\n",
       "        text-align: right;\n",
       "    }\n",
       "</style>\n",
       "<table border=\"1\" class=\"dataframe\">\n",
       "  <thead>\n",
       "    <tr style=\"text-align: right;\">\n",
       "      <th></th>\n",
       "      <th>0</th>\n",
       "      <th>1</th>\n",
       "      <th>2</th>\n",
       "    </tr>\n",
       "  </thead>\n",
       "  <tbody>\n",
       "    <tr>\n",
       "      <th>0</th>\n",
       "      <td>Coca-Cola</td>\n",
       "      <td>Colombiana</td>\n",
       "      <td>Pepsi</td>\n",
       "    </tr>\n",
       "    <tr>\n",
       "      <th>1</th>\n",
       "      <td>Coca-Cola</td>\n",
       "      <td>Manzana Postobón</td>\n",
       "      <td>Sprite</td>\n",
       "    </tr>\n",
       "    <tr>\n",
       "      <th>2</th>\n",
       "      <td>Coca-Cola</td>\n",
       "      <td>Colombiana</td>\n",
       "      <td>Pepsi</td>\n",
       "    </tr>\n",
       "    <tr>\n",
       "      <th>3</th>\n",
       "      <td>Pepsi</td>\n",
       "      <td>Coca-Cola</td>\n",
       "      <td>None</td>\n",
       "    </tr>\n",
       "    <tr>\n",
       "      <th>4</th>\n",
       "      <td>Coca-Cola</td>\n",
       "      <td>None</td>\n",
       "      <td>None</td>\n",
       "    </tr>\n",
       "  </tbody>\n",
       "</table>\n",
       "</div>"
      ],
      "text/plain": [
       "           0                 1       2\n",
       "0  Coca-Cola        Colombiana   Pepsi\n",
       "1  Coca-Cola  Manzana Postobón  Sprite\n",
       "2  Coca-Cola        Colombiana   Pepsi\n",
       "3      Pepsi         Coca-Cola    None\n",
       "4  Coca-Cola              None    None"
      ]
     },
     "execution_count": 16,
     "metadata": {},
     "output_type": "execute_result"
    }
   ],
   "source": [
    "pd.DataFrame(datos.mencion_gaseosa.values.tolist())"
   ]
  },
  {
   "cell_type": "code",
   "execution_count": 27,
   "metadata": {},
   "outputs": [
    {
     "data": {
      "text/html": [
       "<div>\n",
       "<style scoped>\n",
       "    .dataframe tbody tr th:only-of-type {\n",
       "        vertical-align: middle;\n",
       "    }\n",
       "\n",
       "    .dataframe tbody tr th {\n",
       "        vertical-align: top;\n",
       "    }\n",
       "\n",
       "    .dataframe thead th {\n",
       "        text-align: right;\n",
       "    }\n",
       "</style>\n",
       "<table border=\"1\" class=\"dataframe\">\n",
       "  <thead>\n",
       "    <tr style=\"text-align: right;\">\n",
       "      <th></th>\n",
       "      <th>ID</th>\n",
       "      <th>Nombre</th>\n",
       "      <th>edad</th>\n",
       "      <th>mencion_gaseosa</th>\n",
       "      <th>hobbies</th>\n",
       "      <th>Marca1</th>\n",
       "      <th>Marca2</th>\n",
       "      <th>Marca3</th>\n",
       "      <th>0</th>\n",
       "      <th>1</th>\n",
       "      <th>2</th>\n",
       "    </tr>\n",
       "  </thead>\n",
       "  <tbody>\n",
       "    <tr>\n",
       "      <th>0</th>\n",
       "      <td>1</td>\n",
       "      <td>Hector</td>\n",
       "      <td>20</td>\n",
       "      <td>[Coca-Cola, Colombiana, Pepsi]</td>\n",
       "      <td>[Musica, Correr]</td>\n",
       "      <td>Coca-Cola</td>\n",
       "      <td>Colombiana</td>\n",
       "      <td>Pepsi</td>\n",
       "      <td>Coca-Cola</td>\n",
       "      <td>Colombiana</td>\n",
       "      <td>Pepsi</td>\n",
       "    </tr>\n",
       "    <tr>\n",
       "      <th>1</th>\n",
       "      <td>2</td>\n",
       "      <td>Carolina</td>\n",
       "      <td>40</td>\n",
       "      <td>[Coca-Cola, Manzana Postobón, Sprite]</td>\n",
       "      <td>Cine</td>\n",
       "      <td>Coca-Cola</td>\n",
       "      <td>Manzana Postobón</td>\n",
       "      <td>Sprite</td>\n",
       "      <td>Coca-Cola</td>\n",
       "      <td>Manzana Postobón</td>\n",
       "      <td>Sprite</td>\n",
       "    </tr>\n",
       "    <tr>\n",
       "      <th>2</th>\n",
       "      <td>3</td>\n",
       "      <td>NaN</td>\n",
       "      <td>27</td>\n",
       "      <td>[Coca-Cola, Colombiana, Pepsi]</td>\n",
       "      <td>[Escribir, Viajar]</td>\n",
       "      <td>Coca-Cola</td>\n",
       "      <td>Colombiana</td>\n",
       "      <td>Pepsi</td>\n",
       "      <td>Coca-Cola</td>\n",
       "      <td>Colombiana</td>\n",
       "      <td>Pepsi</td>\n",
       "    </tr>\n",
       "    <tr>\n",
       "      <th>3</th>\n",
       "      <td>4</td>\n",
       "      <td>Camila</td>\n",
       "      <td>18</td>\n",
       "      <td>[Pepsi, Coca-Cola]</td>\n",
       "      <td>NaN</td>\n",
       "      <td>Pepsi</td>\n",
       "      <td>Coca-Cola</td>\n",
       "      <td>None</td>\n",
       "      <td>Pepsi</td>\n",
       "      <td>Coca-Cola</td>\n",
       "      <td>None</td>\n",
       "    </tr>\n",
       "    <tr>\n",
       "      <th>4</th>\n",
       "      <td>5</td>\n",
       "      <td>Jose</td>\n",
       "      <td>50</td>\n",
       "      <td>[Coca-Cola]</td>\n",
       "      <td>Programar</td>\n",
       "      <td>Coca-Cola</td>\n",
       "      <td>None</td>\n",
       "      <td>None</td>\n",
       "      <td>Coca-Cola</td>\n",
       "      <td>None</td>\n",
       "      <td>None</td>\n",
       "    </tr>\n",
       "  </tbody>\n",
       "</table>\n",
       "</div>"
      ],
      "text/plain": [
       "   ID    Nombre  edad                        mencion_gaseosa  \\\n",
       "0   1    Hector    20         [Coca-Cola, Colombiana, Pepsi]   \n",
       "1   2  Carolina    40  [Coca-Cola, Manzana Postobón, Sprite]   \n",
       "2   3       NaN    27         [Coca-Cola, Colombiana, Pepsi]   \n",
       "3   4    Camila    18                     [Pepsi, Coca-Cola]   \n",
       "4   5      Jose    50                            [Coca-Cola]   \n",
       "\n",
       "              hobbies     Marca1            Marca2  Marca3          0  \\\n",
       "0    [Musica, Correr]  Coca-Cola        Colombiana   Pepsi  Coca-Cola   \n",
       "1                Cine  Coca-Cola  Manzana Postobón  Sprite  Coca-Cola   \n",
       "2  [Escribir, Viajar]  Coca-Cola        Colombiana   Pepsi  Coca-Cola   \n",
       "3                 NaN      Pepsi         Coca-Cola    None      Pepsi   \n",
       "4           Programar  Coca-Cola              None    None  Coca-Cola   \n",
       "\n",
       "                  1       2  \n",
       "0        Colombiana   Pepsi  \n",
       "1  Manzana Postobón  Sprite  \n",
       "2        Colombiana   Pepsi  \n",
       "3         Coca-Cola    None  \n",
       "4              None    None  "
      ]
     },
     "execution_count": 27,
     "metadata": {},
     "output_type": "execute_result"
    }
   ],
   "source": [
    "datos=datos.join(pd.DataFrame(datos.mencion_gaseosa.values.tolist()))\n",
    "datos"
   ]
  },
  {
   "cell_type": "code",
   "execution_count": 26,
   "metadata": {},
   "outputs": [
    {
     "data": {
      "text/html": [
       "<div>\n",
       "<style scoped>\n",
       "    .dataframe tbody tr th:only-of-type {\n",
       "        vertical-align: middle;\n",
       "    }\n",
       "\n",
       "    .dataframe tbody tr th {\n",
       "        vertical-align: top;\n",
       "    }\n",
       "\n",
       "    .dataframe thead th {\n",
       "        text-align: right;\n",
       "    }\n",
       "</style>\n",
       "<table border=\"1\" class=\"dataframe\">\n",
       "  <thead>\n",
       "    <tr style=\"text-align: right;\">\n",
       "      <th></th>\n",
       "      <th>ID</th>\n",
       "      <th>Nombre</th>\n",
       "      <th>edad</th>\n",
       "      <th>mencion_gaseosa</th>\n",
       "      <th>hobbies</th>\n",
       "      <th>Marca1</th>\n",
       "      <th>Marca2</th>\n",
       "      <th>Marca3</th>\n",
       "    </tr>\n",
       "  </thead>\n",
       "  <tbody>\n",
       "    <tr>\n",
       "      <th>0</th>\n",
       "      <td>1</td>\n",
       "      <td>Hector</td>\n",
       "      <td>20</td>\n",
       "      <td>[Coca-Cola, Colombiana, Pepsi]</td>\n",
       "      <td>[Musica, Correr]</td>\n",
       "      <td>Coca-Cola</td>\n",
       "      <td>Colombiana</td>\n",
       "      <td>Pepsi</td>\n",
       "    </tr>\n",
       "    <tr>\n",
       "      <th>1</th>\n",
       "      <td>2</td>\n",
       "      <td>Carolina</td>\n",
       "      <td>40</td>\n",
       "      <td>[Coca-Cola, Manzana Postobón, Sprite]</td>\n",
       "      <td>Cine</td>\n",
       "      <td>Coca-Cola</td>\n",
       "      <td>Manzana Postobón</td>\n",
       "      <td>Sprite</td>\n",
       "    </tr>\n",
       "    <tr>\n",
       "      <th>2</th>\n",
       "      <td>3</td>\n",
       "      <td>NaN</td>\n",
       "      <td>27</td>\n",
       "      <td>[Coca-Cola, Colombiana, Pepsi]</td>\n",
       "      <td>[Escribir, Viajar]</td>\n",
       "      <td>Coca-Cola</td>\n",
       "      <td>Colombiana</td>\n",
       "      <td>Pepsi</td>\n",
       "    </tr>\n",
       "    <tr>\n",
       "      <th>3</th>\n",
       "      <td>4</td>\n",
       "      <td>Camila</td>\n",
       "      <td>18</td>\n",
       "      <td>[Pepsi, Coca-Cola]</td>\n",
       "      <td>NaN</td>\n",
       "      <td>Pepsi</td>\n",
       "      <td>Coca-Cola</td>\n",
       "      <td>None</td>\n",
       "    </tr>\n",
       "    <tr>\n",
       "      <th>4</th>\n",
       "      <td>5</td>\n",
       "      <td>Jose</td>\n",
       "      <td>50</td>\n",
       "      <td>[Coca-Cola]</td>\n",
       "      <td>Programar</td>\n",
       "      <td>Coca-Cola</td>\n",
       "      <td>None</td>\n",
       "      <td>None</td>\n",
       "    </tr>\n",
       "  </tbody>\n",
       "</table>\n",
       "</div>"
      ],
      "text/plain": [
       "   ID    Nombre  edad                        mencion_gaseosa  \\\n",
       "0   1    Hector    20         [Coca-Cola, Colombiana, Pepsi]   \n",
       "1   2  Carolina    40  [Coca-Cola, Manzana Postobón, Sprite]   \n",
       "2   3       NaN    27         [Coca-Cola, Colombiana, Pepsi]   \n",
       "3   4    Camila    18                     [Pepsi, Coca-Cola]   \n",
       "4   5      Jose    50                            [Coca-Cola]   \n",
       "\n",
       "              hobbies     Marca1            Marca2  Marca3  \n",
       "0    [Musica, Correr]  Coca-Cola        Colombiana   Pepsi  \n",
       "1                Cine  Coca-Cola  Manzana Postobón  Sprite  \n",
       "2  [Escribir, Viajar]  Coca-Cola        Colombiana   Pepsi  \n",
       "3                 NaN      Pepsi         Coca-Cola    None  \n",
       "4           Programar  Coca-Cola              None    None  "
      ]
     },
     "execution_count": 26,
     "metadata": {},
     "output_type": "execute_result"
    }
   ],
   "source": [
    "datos.rename(columns={0:'Marca1', 1:'Marca2',2:'Marca3'}, inplace=True)\n",
    "datos"
   ]
  },
  {
   "cell_type": "markdown",
   "metadata": {},
   "source": [
    "# Continuación ejemplo"
   ]
  },
  {
   "cell_type": "code",
   "execution_count": 62,
   "metadata": {},
   "outputs": [
    {
     "data": {
      "text/plain": [
       "[{'ID': 1,\n",
       "  'Nombre': 'Hector',\n",
       "  'edad': 20,\n",
       "  'mencion_gaseosa': {'marca1': 'Coca-Cola',\n",
       "   'marca2': 'Colombiana',\n",
       "   'marca3': 'Pepsi'},\n",
       "  'hobbies': ['Musica', 'Correr']},\n",
       " {'ID': 2,\n",
       "  'Nombre': 'Carolina',\n",
       "  'edad': 40,\n",
       "  'mencion_gaseosa': {'marca1': 'Coca-Cola',\n",
       "   'marca2': 'Manzana Postobón',\n",
       "   'marca3': 'Sprite'},\n",
       "  'hobbies': 'Cine'},\n",
       " {'ID': 3,\n",
       "  'edad': 27,\n",
       "  'mencion_gaseosa': {'marca1': 'Coca-Cola',\n",
       "   'marca2': 'Colombiana',\n",
       "   'marca3': 'Pepsi'},\n",
       "  'hobbies': ['Escribir', 'Viajar']},\n",
       " {'ID': 4,\n",
       "  'Nombre': 'Camila',\n",
       "  'edad': 18,\n",
       "  'mencion_gaseosa': {'marca1': 'Pepsi', 'marca2': 'Coca-Cola'}},\n",
       " {'ID': 5,\n",
       "  'Nombre': 'Jose',\n",
       "  'edad': 50,\n",
       "  'mencion_gaseosa': {'marca1': 'Coca-Cola'},\n",
       "  'hobbies': 'Programar'}]"
      ]
     },
     "execution_count": 62,
     "metadata": {},
     "output_type": "execute_result"
    }
   ],
   "source": [
    "datos_diccA = [{'ID':1,'Nombre':'Hector', 'edad':20, 'mencion_gaseosa':{'marca1':'Coca-Cola','marca2':'Colombiana','marca3':'Pepsi'}, \n",
    "                  'hobbies':['Musica', 'Correr']},\n",
    "                {'ID':2,'Nombre':'Carolina', 'edad':40, 'mencion_gaseosa':{'marca1':'Coca-Cola','marca2':'Manzana Postobón','marca3':'Sprite'}, \n",
    "                  'hobbies':'Cine'},\n",
    "                {'ID':3, 'edad':27, 'mencion_gaseosa':{'marca1':'Coca-Cola','marca2':'Colombiana','marca3':'Pepsi'}, \n",
    "                  'hobbies':['Escribir', 'Viajar']},\n",
    "                {'ID':4,'Nombre':'Camila', 'edad':18, 'mencion_gaseosa':{'marca1':'Pepsi','marca2':'Coca-Cola'}},\n",
    "                {'ID':5,'Nombre':'Jose', 'edad':50, 'mencion_gaseosa':{'marca1':'Coca-Cola'}, \n",
    "                  'hobbies':'Programar'}]\n",
    "datos_diccA"
   ]
  },
  {
   "cell_type": "code",
   "execution_count": 109,
   "metadata": {},
   "outputs": [
    {
     "data": {
      "text/html": [
       "<div>\n",
       "<style scoped>\n",
       "    .dataframe tbody tr th:only-of-type {\n",
       "        vertical-align: middle;\n",
       "    }\n",
       "\n",
       "    .dataframe tbody tr th {\n",
       "        vertical-align: top;\n",
       "    }\n",
       "\n",
       "    .dataframe thead th {\n",
       "        text-align: right;\n",
       "    }\n",
       "</style>\n",
       "<table border=\"1\" class=\"dataframe\">\n",
       "  <thead>\n",
       "    <tr style=\"text-align: right;\">\n",
       "      <th></th>\n",
       "      <th>ID</th>\n",
       "      <th>Nombre</th>\n",
       "      <th>edad</th>\n",
       "      <th>hobbies</th>\n",
       "      <th>mencion_gaseosa.marca1</th>\n",
       "      <th>mencion_gaseosa.marca2</th>\n",
       "      <th>mencion_gaseosa.marca3</th>\n",
       "    </tr>\n",
       "  </thead>\n",
       "  <tbody>\n",
       "    <tr>\n",
       "      <th>0</th>\n",
       "      <td>1</td>\n",
       "      <td>Hector</td>\n",
       "      <td>20</td>\n",
       "      <td>[Musica, Correr]</td>\n",
       "      <td>Coca-Cola</td>\n",
       "      <td>Colombiana</td>\n",
       "      <td>Pepsi</td>\n",
       "    </tr>\n",
       "    <tr>\n",
       "      <th>1</th>\n",
       "      <td>2</td>\n",
       "      <td>Carolina</td>\n",
       "      <td>40</td>\n",
       "      <td>Cine</td>\n",
       "      <td>Coca-Cola</td>\n",
       "      <td>Manzana Postobón</td>\n",
       "      <td>Sprite</td>\n",
       "    </tr>\n",
       "    <tr>\n",
       "      <th>2</th>\n",
       "      <td>3</td>\n",
       "      <td>NaN</td>\n",
       "      <td>27</td>\n",
       "      <td>[Escribir, Viajar]</td>\n",
       "      <td>Coca-Cola</td>\n",
       "      <td>Colombiana</td>\n",
       "      <td>Pepsi</td>\n",
       "    </tr>\n",
       "    <tr>\n",
       "      <th>3</th>\n",
       "      <td>4</td>\n",
       "      <td>Camila</td>\n",
       "      <td>18</td>\n",
       "      <td>NaN</td>\n",
       "      <td>Pepsi</td>\n",
       "      <td>Coca-Cola</td>\n",
       "      <td>NaN</td>\n",
       "    </tr>\n",
       "    <tr>\n",
       "      <th>4</th>\n",
       "      <td>5</td>\n",
       "      <td>Jose</td>\n",
       "      <td>50</td>\n",
       "      <td>Programar</td>\n",
       "      <td>Coca-Cola</td>\n",
       "      <td>NaN</td>\n",
       "      <td>NaN</td>\n",
       "    </tr>\n",
       "  </tbody>\n",
       "</table>\n",
       "</div>"
      ],
      "text/plain": [
       "   ID    Nombre  edad             hobbies mencion_gaseosa.marca1  \\\n",
       "0   1    Hector    20    [Musica, Correr]              Coca-Cola   \n",
       "1   2  Carolina    40                Cine              Coca-Cola   \n",
       "2   3       NaN    27  [Escribir, Viajar]              Coca-Cola   \n",
       "3   4    Camila    18                 NaN                  Pepsi   \n",
       "4   5      Jose    50           Programar              Coca-Cola   \n",
       "\n",
       "  mencion_gaseosa.marca2 mencion_gaseosa.marca3  \n",
       "0             Colombiana                  Pepsi  \n",
       "1       Manzana Postobón                 Sprite  \n",
       "2             Colombiana                  Pepsi  \n",
       "3              Coca-Cola                    NaN  \n",
       "4                    NaN                    NaN  "
      ]
     },
     "execution_count": 109,
     "metadata": {},
     "output_type": "execute_result"
    }
   ],
   "source": [
    "datosA = pd.json_normalize(datos_diccA)\n",
    "datosA"
   ]
  },
  {
   "cell_type": "code",
   "execution_count": 110,
   "metadata": {},
   "outputs": [
    {
     "data": {
      "text/plain": [
       "[['Musica', 'Correr'], 'Cine', ['Escribir', 'Viajar'], nan, 'Programar']"
      ]
     },
     "execution_count": 110,
     "metadata": {},
     "output_type": "execute_result"
    }
   ],
   "source": [
    "datosA.hobbies.values.tolist()\n",
    "#pd.DataFrame(datosA.hobbies.values.tolist())"
   ]
  },
  {
   "cell_type": "code",
   "execution_count": 121,
   "metadata": {},
   "outputs": [
    {
     "data": {
      "text/plain": [
       "False"
      ]
     },
     "execution_count": 121,
     "metadata": {},
     "output_type": "execute_result"
    }
   ],
   "source": [
    "not isinstance([2], list)"
   ]
  },
  {
   "cell_type": "code",
   "execution_count": 122,
   "metadata": {},
   "outputs": [
    {
     "data": {
      "text/plain": [
       "[['Musica', 'Correr'], ['Cine'], ['Escribir', 'Viajar'], [nan], ['Programar']]"
      ]
     },
     "execution_count": 122,
     "metadata": {},
     "output_type": "execute_result"
    }
   ],
   "source": [
    "lista=[[i] if not isinstance(i, list) else i for i in datosA.hobbies.values.tolist()]\n",
    "lista"
   ]
  },
  {
   "cell_type": "code",
   "execution_count": 123,
   "metadata": {},
   "outputs": [
    {
     "data": {
      "text/html": [
       "<div>\n",
       "<style scoped>\n",
       "    .dataframe tbody tr th:only-of-type {\n",
       "        vertical-align: middle;\n",
       "    }\n",
       "\n",
       "    .dataframe tbody tr th {\n",
       "        vertical-align: top;\n",
       "    }\n",
       "\n",
       "    .dataframe thead th {\n",
       "        text-align: right;\n",
       "    }\n",
       "</style>\n",
       "<table border=\"1\" class=\"dataframe\">\n",
       "  <thead>\n",
       "    <tr style=\"text-align: right;\">\n",
       "      <th></th>\n",
       "      <th>0</th>\n",
       "      <th>1</th>\n",
       "    </tr>\n",
       "  </thead>\n",
       "  <tbody>\n",
       "    <tr>\n",
       "      <th>0</th>\n",
       "      <td>Musica</td>\n",
       "      <td>Correr</td>\n",
       "    </tr>\n",
       "    <tr>\n",
       "      <th>1</th>\n",
       "      <td>Cine</td>\n",
       "      <td>None</td>\n",
       "    </tr>\n",
       "    <tr>\n",
       "      <th>2</th>\n",
       "      <td>Escribir</td>\n",
       "      <td>Viajar</td>\n",
       "    </tr>\n",
       "    <tr>\n",
       "      <th>3</th>\n",
       "      <td>NaN</td>\n",
       "      <td>None</td>\n",
       "    </tr>\n",
       "    <tr>\n",
       "      <th>4</th>\n",
       "      <td>Programar</td>\n",
       "      <td>None</td>\n",
       "    </tr>\n",
       "  </tbody>\n",
       "</table>\n",
       "</div>"
      ],
      "text/plain": [
       "           0       1\n",
       "0     Musica  Correr\n",
       "1       Cine    None\n",
       "2   Escribir  Viajar\n",
       "3        NaN    None\n",
       "4  Programar    None"
      ]
     },
     "execution_count": 123,
     "metadata": {},
     "output_type": "execute_result"
    }
   ],
   "source": [
    "pd.DataFrame(lista)"
   ]
  },
  {
   "cell_type": "markdown",
   "metadata": {},
   "source": [
    "Ejercicio: completar la base de datos con los hobbies separados"
   ]
  },
  {
   "cell_type": "markdown",
   "metadata": {},
   "source": [
    "# Ejemplo 2"
   ]
  },
  {
   "cell_type": "code",
   "execution_count": 44,
   "metadata": {},
   "outputs": [
    {
     "data": {
      "text/plain": [
       "[{'ID': 1,\n",
       "  'Nombre': 'John',\n",
       "  'edad': 20,\n",
       "  'Localizacion': {'Ciudad': 'Bogotá',\n",
       "   'Departamento': 'Bogotá D.C.',\n",
       "   'Localidad': 'Chapinero'}},\n",
       " {'ID': 2,\n",
       "  'Nombre': 'Camila',\n",
       "  'edad': 32,\n",
       "  'Localizacion': {'Ciudad': 'Medellín', 'Departamento': 'Antioquia'}},\n",
       " {'ID': 3,\n",
       "  'Nombre': 'Diana',\n",
       "  'edad': 28,\n",
       "  'Localizacion': {'Ciudad': 'Cali', 'Departamento': 'Valle'}},\n",
       " {'ID': 4,\n",
       "  'Nombre': 'Diana',\n",
       "  'edad': 28,\n",
       "  'Localizacion': {'Ciudad': 'Chia', 'Departamento': 'Cundinamerca'}}]"
      ]
     },
     "execution_count": 44,
     "metadata": {},
     "output_type": "execute_result"
    }
   ],
   "source": [
    "datos_dicc = [{'ID':1,'Nombre':'John','edad':20,'Localizacion':{'Ciudad':'Bogotá','Departamento':'Bogotá D.C.','Localidad':'Chapinero'}},\n",
    "       {'ID':2,'Nombre':'Camila', 'edad':32,'Localizacion':{'Ciudad':'Medellín','Departamento':'Antioquia'}},\n",
    "        {'ID':3,'Nombre':'Diana', 'edad':28,'Localizacion':{'Ciudad':'Cali','Departamento':'Valle'}},\n",
    "        {'ID':4,'Nombre':'Diana', 'edad':28,'Localizacion':{'Ciudad':'Chia','Departamento':'Cundinamerca'}}]\n",
    "datos"
   ]
  },
  {
   "cell_type": "code",
   "execution_count": 46,
   "metadata": {},
   "outputs": [
    {
     "data": {
      "text/html": [
       "<div>\n",
       "<style scoped>\n",
       "    .dataframe tbody tr th:only-of-type {\n",
       "        vertical-align: middle;\n",
       "    }\n",
       "\n",
       "    .dataframe tbody tr th {\n",
       "        vertical-align: top;\n",
       "    }\n",
       "\n",
       "    .dataframe thead th {\n",
       "        text-align: right;\n",
       "    }\n",
       "</style>\n",
       "<table border=\"1\" class=\"dataframe\">\n",
       "  <thead>\n",
       "    <tr style=\"text-align: right;\">\n",
       "      <th></th>\n",
       "      <th>ID</th>\n",
       "      <th>Nombre</th>\n",
       "      <th>edad</th>\n",
       "      <th>Localizacion.Ciudad</th>\n",
       "      <th>Localizacion.Departamento</th>\n",
       "      <th>Localizacion.Localidad</th>\n",
       "    </tr>\n",
       "  </thead>\n",
       "  <tbody>\n",
       "    <tr>\n",
       "      <th>0</th>\n",
       "      <td>1</td>\n",
       "      <td>John</td>\n",
       "      <td>20</td>\n",
       "      <td>Bogotá</td>\n",
       "      <td>Bogotá D.C.</td>\n",
       "      <td>Chapinero</td>\n",
       "    </tr>\n",
       "    <tr>\n",
       "      <th>1</th>\n",
       "      <td>2</td>\n",
       "      <td>Camila</td>\n",
       "      <td>32</td>\n",
       "      <td>Medellín</td>\n",
       "      <td>Antioquia</td>\n",
       "      <td>NaN</td>\n",
       "    </tr>\n",
       "    <tr>\n",
       "      <th>2</th>\n",
       "      <td>3</td>\n",
       "      <td>Diana</td>\n",
       "      <td>28</td>\n",
       "      <td>Cali</td>\n",
       "      <td>Valle</td>\n",
       "      <td>NaN</td>\n",
       "    </tr>\n",
       "    <tr>\n",
       "      <th>3</th>\n",
       "      <td>4</td>\n",
       "      <td>Diana</td>\n",
       "      <td>28</td>\n",
       "      <td>Chia</td>\n",
       "      <td>Cundinamerca</td>\n",
       "      <td>NaN</td>\n",
       "    </tr>\n",
       "  </tbody>\n",
       "</table>\n",
       "</div>"
      ],
      "text/plain": [
       "   ID  Nombre  edad Localizacion.Ciudad Localizacion.Departamento  \\\n",
       "0   1    John    20              Bogotá               Bogotá D.C.   \n",
       "1   2  Camila    32            Medellín                 Antioquia   \n",
       "2   3   Diana    28                Cali                     Valle   \n",
       "3   4   Diana    28                Chia              Cundinamerca   \n",
       "\n",
       "  Localizacion.Localidad  \n",
       "0              Chapinero  \n",
       "1                    NaN  \n",
       "2                    NaN  \n",
       "3                    NaN  "
      ]
     },
     "execution_count": 46,
     "metadata": {},
     "output_type": "execute_result"
    }
   ],
   "source": [
    "datos2=pd.json_normalize(datos_dicc)\n",
    "datos2"
   ]
  },
  {
   "cell_type": "markdown",
   "metadata": {},
   "source": [
    "# Ejemplo 3"
   ]
  },
  {
   "cell_type": "code",
   "execution_count": 49,
   "metadata": {},
   "outputs": [],
   "source": [
    "data = [{'id': 1,\n",
    "         'name': \"Cole Volk\",\n",
    "         'fitness': {'height': 130, 'weight': 60}},\n",
    "        {'name': \"Mose Reg\",\n",
    "         'fitness': {'height': 130, 'weight': 60}},\n",
    "        {'id': 2, 'name': 'Faye Raker',\n",
    "         'fitness': {'height': 130, 'weight': 60}}]"
   ]
  },
  {
   "cell_type": "code",
   "execution_count": 51,
   "metadata": {},
   "outputs": [
    {
     "data": {
      "text/html": [
       "<div>\n",
       "<style scoped>\n",
       "    .dataframe tbody tr th:only-of-type {\n",
       "        vertical-align: middle;\n",
       "    }\n",
       "\n",
       "    .dataframe tbody tr th {\n",
       "        vertical-align: top;\n",
       "    }\n",
       "\n",
       "    .dataframe thead th {\n",
       "        text-align: right;\n",
       "    }\n",
       "</style>\n",
       "<table border=\"1\" class=\"dataframe\">\n",
       "  <thead>\n",
       "    <tr style=\"text-align: right;\">\n",
       "      <th></th>\n",
       "      <th>id</th>\n",
       "      <th>name</th>\n",
       "      <th>fitness.height</th>\n",
       "      <th>fitness.weight</th>\n",
       "    </tr>\n",
       "  </thead>\n",
       "  <tbody>\n",
       "    <tr>\n",
       "      <th>0</th>\n",
       "      <td>1.0</td>\n",
       "      <td>Cole Volk</td>\n",
       "      <td>130</td>\n",
       "      <td>60</td>\n",
       "    </tr>\n",
       "    <tr>\n",
       "      <th>1</th>\n",
       "      <td>NaN</td>\n",
       "      <td>Mose Reg</td>\n",
       "      <td>130</td>\n",
       "      <td>60</td>\n",
       "    </tr>\n",
       "    <tr>\n",
       "      <th>2</th>\n",
       "      <td>2.0</td>\n",
       "      <td>Faye Raker</td>\n",
       "      <td>130</td>\n",
       "      <td>60</td>\n",
       "    </tr>\n",
       "  </tbody>\n",
       "</table>\n",
       "</div>"
      ],
      "text/plain": [
       "    id        name  fitness.height  fitness.weight\n",
       "0  1.0   Cole Volk             130              60\n",
       "1  NaN    Mose Reg             130              60\n",
       "2  2.0  Faye Raker             130              60"
      ]
     },
     "execution_count": 51,
     "metadata": {},
     "output_type": "execute_result"
    }
   ],
   "source": [
    "pd.json_normalize(data)"
   ]
  },
  {
   "cell_type": "code",
   "execution_count": 53,
   "metadata": {},
   "outputs": [
    {
     "data": {
      "text/html": [
       "<div>\n",
       "<style scoped>\n",
       "    .dataframe tbody tr th:only-of-type {\n",
       "        vertical-align: middle;\n",
       "    }\n",
       "\n",
       "    .dataframe tbody tr th {\n",
       "        vertical-align: top;\n",
       "    }\n",
       "\n",
       "    .dataframe thead th {\n",
       "        text-align: right;\n",
       "    }\n",
       "</style>\n",
       "<table border=\"1\" class=\"dataframe\">\n",
       "  <thead>\n",
       "    <tr style=\"text-align: right;\">\n",
       "      <th></th>\n",
       "      <th>id</th>\n",
       "      <th>name</th>\n",
       "      <th>fitness.height</th>\n",
       "      <th>fitness.weight</th>\n",
       "    </tr>\n",
       "  </thead>\n",
       "  <tbody>\n",
       "    <tr>\n",
       "      <th>0</th>\n",
       "      <td>1.0</td>\n",
       "      <td>Cole Volk</td>\n",
       "      <td>130</td>\n",
       "      <td>60</td>\n",
       "    </tr>\n",
       "    <tr>\n",
       "      <th>1</th>\n",
       "      <td>NaN</td>\n",
       "      <td>Mose Reg</td>\n",
       "      <td>130</td>\n",
       "      <td>60</td>\n",
       "    </tr>\n",
       "    <tr>\n",
       "      <th>2</th>\n",
       "      <td>2.0</td>\n",
       "      <td>Faye Raker</td>\n",
       "      <td>130</td>\n",
       "      <td>60</td>\n",
       "    </tr>\n",
       "  </tbody>\n",
       "</table>\n",
       "</div>"
      ],
      "text/plain": [
       "    id        name  fitness.height  fitness.weight\n",
       "0  1.0   Cole Volk             130              60\n",
       "1  NaN    Mose Reg             130              60\n",
       "2  2.0  Faye Raker             130              60"
      ]
     },
     "execution_count": 53,
     "metadata": {},
     "output_type": "execute_result"
    }
   ],
   "source": [
    "pd.json_normalize(data, max_level = 1)"
   ]
  },
  {
   "cell_type": "code",
   "execution_count": 54,
   "metadata": {},
   "outputs": [
    {
     "data": {
      "text/html": [
       "<div>\n",
       "<style scoped>\n",
       "    .dataframe tbody tr th:only-of-type {\n",
       "        vertical-align: middle;\n",
       "    }\n",
       "\n",
       "    .dataframe tbody tr th {\n",
       "        vertical-align: top;\n",
       "    }\n",
       "\n",
       "    .dataframe thead th {\n",
       "        text-align: right;\n",
       "    }\n",
       "</style>\n",
       "<table border=\"1\" class=\"dataframe\">\n",
       "  <thead>\n",
       "    <tr style=\"text-align: right;\">\n",
       "      <th></th>\n",
       "      <th>id</th>\n",
       "      <th>name</th>\n",
       "      <th>fitness</th>\n",
       "    </tr>\n",
       "  </thead>\n",
       "  <tbody>\n",
       "    <tr>\n",
       "      <th>0</th>\n",
       "      <td>1.0</td>\n",
       "      <td>Cole Volk</td>\n",
       "      <td>{'height': 130, 'weight': 60}</td>\n",
       "    </tr>\n",
       "    <tr>\n",
       "      <th>1</th>\n",
       "      <td>NaN</td>\n",
       "      <td>Mose Reg</td>\n",
       "      <td>{'height': 130, 'weight': 60}</td>\n",
       "    </tr>\n",
       "    <tr>\n",
       "      <th>2</th>\n",
       "      <td>2.0</td>\n",
       "      <td>Faye Raker</td>\n",
       "      <td>{'height': 130, 'weight': 60}</td>\n",
       "    </tr>\n",
       "  </tbody>\n",
       "</table>\n",
       "</div>"
      ],
      "text/plain": [
       "    id        name                        fitness\n",
       "0  1.0   Cole Volk  {'height': 130, 'weight': 60}\n",
       "1  NaN    Mose Reg  {'height': 130, 'weight': 60}\n",
       "2  2.0  Faye Raker  {'height': 130, 'weight': 60}"
      ]
     },
     "execution_count": 54,
     "metadata": {},
     "output_type": "execute_result"
    }
   ],
   "source": [
    "pd.json_normalize(data, max_level = 0)"
   ]
  },
  {
   "cell_type": "code",
   "execution_count": 124,
   "metadata": {},
   "outputs": [],
   "source": [
    "# Ejemplo 4: manejo de datos con jerarquias"
   ]
  },
  {
   "cell_type": "code",
   "execution_count": 132,
   "metadata": {},
   "outputs": [],
   "source": [
    "df_dicc=ata = [\n",
    "{\n",
    "'Departamento': 'Cundinamarca',\n",
    "         'Codigo': '25',\n",
    "         'info': {'Gobernador':'Nicolás Garcia'},\n",
    "         'municipios': [{'Municipio': 'Bogotá', 'población': 8000000},\n",
    "                      {'Municipio': 'Chia', 'población': 300000},\n",
    "                      {'Municipio': 'Soacha', 'población': 60000}]\n",
    "},\n",
    "{\n",
    "'Departamento': 'Antioquia',\n",
    "         'Codigo': '05',\n",
    "         'info': {'Gobernador':'Luis Pérez'},\n",
    "         'municipios': [{'Municipio': 'Medellín', 'población': 2500000},\n",
    "                      {'Municipio': 'Envigado', 'población': 700000}]\n",
    "                      }\n",
    "                     ]"
   ]
  },
  {
   "cell_type": "code",
   "execution_count": 133,
   "metadata": {},
   "outputs": [
    {
     "data": {
      "text/plain": [
       "[{'Departamento': 'Cundinamarca',\n",
       "  'Codigo': '25',\n",
       "  'info': {'Gobernador': 'Nicolás Garcia'},\n",
       "  'municipios': [{'Municipio': 'Bogotá', 'población': 8000000},\n",
       "   {'Municipio': 'Chia', 'población': 300000},\n",
       "   {'Municipio': 'Soacha', 'población': 60000}]},\n",
       " {'Departamento': 'Antioquia',\n",
       "  'Codigo': '05',\n",
       "  'info': {'Gobernador': 'Luis Pérez'},\n",
       "  'municipios': [{'Municipio': 'Medellín', 'población': 2500000},\n",
       "   {'Municipio': 'Envigado', 'población': 700000}]}]"
      ]
     },
     "execution_count": 133,
     "metadata": {},
     "output_type": "execute_result"
    }
   ],
   "source": [
    "df_dicc"
   ]
  },
  {
   "cell_type": "code",
   "execution_count": null,
   "metadata": {},
   "outputs": [],
   "source": [
    "df_dicc"
   ]
  },
  {
   "cell_type": "code",
   "execution_count": 136,
   "metadata": {},
   "outputs": [
    {
     "data": {
      "text/html": [
       "<div>\n",
       "<style scoped>\n",
       "    .dataframe tbody tr th:only-of-type {\n",
       "        vertical-align: middle;\n",
       "    }\n",
       "\n",
       "    .dataframe tbody tr th {\n",
       "        vertical-align: top;\n",
       "    }\n",
       "\n",
       "    .dataframe thead th {\n",
       "        text-align: right;\n",
       "    }\n",
       "</style>\n",
       "<table border=\"1\" class=\"dataframe\">\n",
       "  <thead>\n",
       "    <tr style=\"text-align: right;\">\n",
       "      <th></th>\n",
       "      <th>Municipio</th>\n",
       "      <th>población</th>\n",
       "      <th>Departamento</th>\n",
       "      <th>Codigo</th>\n",
       "      <th>info.Gobernador</th>\n",
       "    </tr>\n",
       "  </thead>\n",
       "  <tbody>\n",
       "    <tr>\n",
       "      <th>0</th>\n",
       "      <td>Bogotá</td>\n",
       "      <td>8000000</td>\n",
       "      <td>Cundinamarca</td>\n",
       "      <td>25</td>\n",
       "      <td>Nicolás Garcia</td>\n",
       "    </tr>\n",
       "    <tr>\n",
       "      <th>1</th>\n",
       "      <td>Chia</td>\n",
       "      <td>300000</td>\n",
       "      <td>Cundinamarca</td>\n",
       "      <td>25</td>\n",
       "      <td>Nicolás Garcia</td>\n",
       "    </tr>\n",
       "    <tr>\n",
       "      <th>2</th>\n",
       "      <td>Soacha</td>\n",
       "      <td>60000</td>\n",
       "      <td>Cundinamarca</td>\n",
       "      <td>25</td>\n",
       "      <td>Nicolás Garcia</td>\n",
       "    </tr>\n",
       "    <tr>\n",
       "      <th>3</th>\n",
       "      <td>Medellín</td>\n",
       "      <td>2500000</td>\n",
       "      <td>Antioquia</td>\n",
       "      <td>05</td>\n",
       "      <td>Luis Pérez</td>\n",
       "    </tr>\n",
       "    <tr>\n",
       "      <th>4</th>\n",
       "      <td>Envigado</td>\n",
       "      <td>700000</td>\n",
       "      <td>Antioquia</td>\n",
       "      <td>05</td>\n",
       "      <td>Luis Pérez</td>\n",
       "    </tr>\n",
       "  </tbody>\n",
       "</table>\n",
       "</div>"
      ],
      "text/plain": [
       "  Municipio  población  Departamento Codigo info.Gobernador\n",
       "0    Bogotá    8000000  Cundinamarca     25  Nicolás Garcia\n",
       "1      Chia     300000  Cundinamarca     25  Nicolás Garcia\n",
       "2    Soacha      60000  Cundinamarca     25  Nicolás Garcia\n",
       "3  Medellín    2500000     Antioquia     05      Luis Pérez\n",
       "4  Envigado     700000     Antioquia     05      Luis Pérez"
      ]
     },
     "execution_count": 136,
     "metadata": {},
     "output_type": "execute_result"
    }
   ],
   "source": [
    "df = pd.json_normalize(df_dicc, 'municipios', ['Departamento', 'Codigo',\n",
    "                                           ['info', 'Gobernador']])\n",
    "df"
   ]
  },
  {
   "cell_type": "code",
   "execution_count": 137,
   "metadata": {},
   "outputs": [
    {
     "data": {
      "text/html": [
       "<div>\n",
       "<style scoped>\n",
       "    .dataframe tbody tr th:only-of-type {\n",
       "        vertical-align: middle;\n",
       "    }\n",
       "\n",
       "    .dataframe tbody tr th {\n",
       "        vertical-align: top;\n",
       "    }\n",
       "\n",
       "    .dataframe thead th {\n",
       "        text-align: right;\n",
       "    }\n",
       "</style>\n",
       "<table border=\"1\" class=\"dataframe\">\n",
       "  <thead>\n",
       "    <tr style=\"text-align: right;\">\n",
       "      <th></th>\n",
       "      <th>Departamento</th>\n",
       "      <th>Codigo</th>\n",
       "      <th>municipios</th>\n",
       "      <th>info.Gobernador</th>\n",
       "    </tr>\n",
       "  </thead>\n",
       "  <tbody>\n",
       "    <tr>\n",
       "      <th>0</th>\n",
       "      <td>Cundinamarca</td>\n",
       "      <td>25</td>\n",
       "      <td>[{'Municipio': 'Bogotá', 'población': 8000000}...</td>\n",
       "      <td>Nicolás Garcia</td>\n",
       "    </tr>\n",
       "    <tr>\n",
       "      <th>1</th>\n",
       "      <td>Antioquia</td>\n",
       "      <td>05</td>\n",
       "      <td>[{'Municipio': 'Medellín', 'población': 250000...</td>\n",
       "      <td>Luis Pérez</td>\n",
       "    </tr>\n",
       "  </tbody>\n",
       "</table>\n",
       "</div>"
      ],
      "text/plain": [
       "   Departamento Codigo                                         municipios  \\\n",
       "0  Cundinamarca     25  [{'Municipio': 'Bogotá', 'población': 8000000}...   \n",
       "1     Antioquia     05  [{'Municipio': 'Medellín', 'población': 250000...   \n",
       "\n",
       "  info.Gobernador  \n",
       "0  Nicolás Garcia  \n",
       "1      Luis Pérez  "
      ]
     },
     "execution_count": 137,
     "metadata": {},
     "output_type": "execute_result"
    }
   ],
   "source": [
    "df = pd.json_normalize(df_dicc)\n",
    "df"
   ]
  },
  {
   "cell_type": "code",
   "execution_count": 138,
   "metadata": {},
   "outputs": [
    {
     "data": {
      "text/html": [
       "<div>\n",
       "<style scoped>\n",
       "    .dataframe tbody tr th:only-of-type {\n",
       "        vertical-align: middle;\n",
       "    }\n",
       "\n",
       "    .dataframe tbody tr th {\n",
       "        vertical-align: top;\n",
       "    }\n",
       "\n",
       "    .dataframe thead th {\n",
       "        text-align: right;\n",
       "    }\n",
       "</style>\n",
       "<table border=\"1\" class=\"dataframe\">\n",
       "  <thead>\n",
       "    <tr style=\"text-align: right;\">\n",
       "      <th></th>\n",
       "      <th>Municipio</th>\n",
       "      <th>población</th>\n",
       "    </tr>\n",
       "  </thead>\n",
       "  <tbody>\n",
       "    <tr>\n",
       "      <th>0</th>\n",
       "      <td>Bogotá</td>\n",
       "      <td>8000000</td>\n",
       "    </tr>\n",
       "    <tr>\n",
       "      <th>1</th>\n",
       "      <td>Chia</td>\n",
       "      <td>300000</td>\n",
       "    </tr>\n",
       "    <tr>\n",
       "      <th>2</th>\n",
       "      <td>Soacha</td>\n",
       "      <td>60000</td>\n",
       "    </tr>\n",
       "    <tr>\n",
       "      <th>3</th>\n",
       "      <td>Medellín</td>\n",
       "      <td>2500000</td>\n",
       "    </tr>\n",
       "    <tr>\n",
       "      <th>4</th>\n",
       "      <td>Envigado</td>\n",
       "      <td>700000</td>\n",
       "    </tr>\n",
       "  </tbody>\n",
       "</table>\n",
       "</div>"
      ],
      "text/plain": [
       "  Municipio  población\n",
       "0    Bogotá    8000000\n",
       "1      Chia     300000\n",
       "2    Soacha      60000\n",
       "3  Medellín    2500000\n",
       "4  Envigado     700000"
      ]
     },
     "execution_count": 138,
     "metadata": {},
     "output_type": "execute_result"
    }
   ],
   "source": [
    "df = pd.json_normalize(df_dicc, 'municipios')\n",
    "df"
   ]
  }
 ],
 "metadata": {
  "kernelspec": {
   "display_name": "Python 3",
   "language": "python",
   "name": "python3"
  },
  "language_info": {
   "codemirror_mode": {
    "name": "ipython",
    "version": 3
   },
   "file_extension": ".py",
   "mimetype": "text/x-python",
   "name": "python",
   "nbconvert_exporter": "python",
   "pygments_lexer": "ipython3",
   "version": "3.7.3"
  }
 },
 "nbformat": 4,
 "nbformat_minor": 2
}
