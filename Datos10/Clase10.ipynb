{
 "cells": [
  {
   "cell_type": "code",
   "execution_count": 1,
   "metadata": {},
   "outputs": [],
   "source": [
    "import pandas as pd\n",
    "import json"
   ]
  },
  {
   "cell_type": "code",
   "execution_count": 5,
   "metadata": {},
   "outputs": [],
   "source": [
    "datos_dicc = [{'ID':1,'Nombre':'Hector', 'edad':20, 'mencion_gaseosa':['Coca-Cola','Colombiana','Pepsi'], \n",
    "                  'hobbies':['Musica', 'Correr']},\n",
    "                {'ID':2,'Nombre':'Carolina', 'edad':40, 'mencion_gaseosa':['Coca-Cola','Manzana Postobón','Sprite'], \n",
    "                  'hobbies':'Cine'},\n",
    "                {'ID':3, 'edad':27, 'mencion_gaseosa':['Coca-Cola','Colombiana','Pepsi'], \n",
    "                  'hobbies':['Escribir', 'Viajar']},\n",
    "                {'ID':4,'Nombre':'Camila', 'edad':18, 'mencion_gaseosa':['Pepsi','Coca-Cola']},\n",
    "                {'ID':5,'Nombre':'Jose', 'edad':50, 'mencion_gaseosa':['Coca-Cola'], \n",
    "                  'hobbies':'Programar'}]"
   ]
  },
  {
   "cell_type": "code",
   "execution_count": 20,
   "metadata": {},
   "outputs": [
    {
     "data": {
      "text/html": [
       "<div>\n",
       "<style scoped>\n",
       "    .dataframe tbody tr th:only-of-type {\n",
       "        vertical-align: middle;\n",
       "    }\n",
       "\n",
       "    .dataframe tbody tr th {\n",
       "        vertical-align: top;\n",
       "    }\n",
       "\n",
       "    .dataframe thead th {\n",
       "        text-align: right;\n",
       "    }\n",
       "</style>\n",
       "<table border=\"1\" class=\"dataframe\">\n",
       "  <thead>\n",
       "    <tr style=\"text-align: right;\">\n",
       "      <th></th>\n",
       "      <th>ID</th>\n",
       "      <th>Nombre</th>\n",
       "      <th>edad</th>\n",
       "      <th>mencion_gaseosa</th>\n",
       "      <th>hobbies</th>\n",
       "    </tr>\n",
       "  </thead>\n",
       "  <tbody>\n",
       "    <tr>\n",
       "      <th>0</th>\n",
       "      <td>1</td>\n",
       "      <td>Hector</td>\n",
       "      <td>20</td>\n",
       "      <td>[Coca-Cola, Colombiana, Pepsi]</td>\n",
       "      <td>[Musica, Correr]</td>\n",
       "    </tr>\n",
       "    <tr>\n",
       "      <th>1</th>\n",
       "      <td>2</td>\n",
       "      <td>Carolina</td>\n",
       "      <td>40</td>\n",
       "      <td>[Coca-Cola, Manzana Postobón, Sprite]</td>\n",
       "      <td>Cine</td>\n",
       "    </tr>\n",
       "    <tr>\n",
       "      <th>2</th>\n",
       "      <td>3</td>\n",
       "      <td>NaN</td>\n",
       "      <td>27</td>\n",
       "      <td>[Coca-Cola, Colombiana, Pepsi]</td>\n",
       "      <td>[Escribir, Viajar]</td>\n",
       "    </tr>\n",
       "    <tr>\n",
       "      <th>3</th>\n",
       "      <td>4</td>\n",
       "      <td>Camila</td>\n",
       "      <td>18</td>\n",
       "      <td>[Pepsi, Coca-Cola]</td>\n",
       "      <td>NaN</td>\n",
       "    </tr>\n",
       "    <tr>\n",
       "      <th>4</th>\n",
       "      <td>5</td>\n",
       "      <td>Jose</td>\n",
       "      <td>50</td>\n",
       "      <td>[Coca-Cola]</td>\n",
       "      <td>Programar</td>\n",
       "    </tr>\n",
       "  </tbody>\n",
       "</table>\n",
       "</div>"
      ],
      "text/plain": [
       "   ID    Nombre  edad                        mencion_gaseosa  \\\n",
       "0   1    Hector    20         [Coca-Cola, Colombiana, Pepsi]   \n",
       "1   2  Carolina    40  [Coca-Cola, Manzana Postobón, Sprite]   \n",
       "2   3       NaN    27         [Coca-Cola, Colombiana, Pepsi]   \n",
       "3   4    Camila    18                     [Pepsi, Coca-Cola]   \n",
       "4   5      Jose    50                            [Coca-Cola]   \n",
       "\n",
       "              hobbies  \n",
       "0    [Musica, Correr]  \n",
       "1                Cine  \n",
       "2  [Escribir, Viajar]  \n",
       "3                 NaN  \n",
       "4           Programar  "
      ]
     },
     "execution_count": 20,
     "metadata": {},
     "output_type": "execute_result"
    }
   ],
   "source": [
    "datos=pd.json_normalize(datos_dicc)\n",
    "datos"
   ]
  },
  {
   "cell_type": "code",
   "execution_count": 15,
   "metadata": {},
   "outputs": [
    {
     "data": {
      "text/plain": [
       "[['Coca-Cola', 'Colombiana', 'Pepsi'],\n",
       " ['Coca-Cola', 'Manzana Postobón', 'Sprite'],\n",
       " ['Coca-Cola', 'Colombiana', 'Pepsi'],\n",
       " ['Pepsi', 'Coca-Cola'],\n",
       " ['Coca-Cola']]"
      ]
     },
     "execution_count": 15,
     "metadata": {},
     "output_type": "execute_result"
    }
   ],
   "source": [
    "datos.mencion_gaseosa.values.tolist()"
   ]
  },
  {
   "cell_type": "code",
   "execution_count": 16,
   "metadata": {},
   "outputs": [
    {
     "data": {
      "text/html": [
       "<div>\n",
       "<style scoped>\n",
       "    .dataframe tbody tr th:only-of-type {\n",
       "        vertical-align: middle;\n",
       "    }\n",
       "\n",
       "    .dataframe tbody tr th {\n",
       "        vertical-align: top;\n",
       "    }\n",
       "\n",
       "    .dataframe thead th {\n",
       "        text-align: right;\n",
       "    }\n",
       "</style>\n",
       "<table border=\"1\" class=\"dataframe\">\n",
       "  <thead>\n",
       "    <tr style=\"text-align: right;\">\n",
       "      <th></th>\n",
       "      <th>0</th>\n",
       "      <th>1</th>\n",
       "      <th>2</th>\n",
       "    </tr>\n",
       "  </thead>\n",
       "  <tbody>\n",
       "    <tr>\n",
       "      <th>0</th>\n",
       "      <td>Coca-Cola</td>\n",
       "      <td>Colombiana</td>\n",
       "      <td>Pepsi</td>\n",
       "    </tr>\n",
       "    <tr>\n",
       "      <th>1</th>\n",
       "      <td>Coca-Cola</td>\n",
       "      <td>Manzana Postobón</td>\n",
       "      <td>Sprite</td>\n",
       "    </tr>\n",
       "    <tr>\n",
       "      <th>2</th>\n",
       "      <td>Coca-Cola</td>\n",
       "      <td>Colombiana</td>\n",
       "      <td>Pepsi</td>\n",
       "    </tr>\n",
       "    <tr>\n",
       "      <th>3</th>\n",
       "      <td>Pepsi</td>\n",
       "      <td>Coca-Cola</td>\n",
       "      <td>None</td>\n",
       "    </tr>\n",
       "    <tr>\n",
       "      <th>4</th>\n",
       "      <td>Coca-Cola</td>\n",
       "      <td>None</td>\n",
       "      <td>None</td>\n",
       "    </tr>\n",
       "  </tbody>\n",
       "</table>\n",
       "</div>"
      ],
      "text/plain": [
       "           0                 1       2\n",
       "0  Coca-Cola        Colombiana   Pepsi\n",
       "1  Coca-Cola  Manzana Postobón  Sprite\n",
       "2  Coca-Cola        Colombiana   Pepsi\n",
       "3      Pepsi         Coca-Cola    None\n",
       "4  Coca-Cola              None    None"
      ]
     },
     "execution_count": 16,
     "metadata": {},
     "output_type": "execute_result"
    }
   ],
   "source": [
    "pd.DataFrame(datos.mencion_gaseosa.values.tolist())"
   ]
  },
  {
   "cell_type": "code",
   "execution_count": 21,
   "metadata": {},
   "outputs": [],
   "source": [
    "datos=datos.join(pd.DataFrame(datos.mencion_gaseosa.values.tolist()))\n"
   ]
  },
  {
   "cell_type": "code",
   "execution_count": 26,
   "metadata": {},
   "outputs": [
    {
     "data": {
      "text/html": [
       "<div>\n",
       "<style scoped>\n",
       "    .dataframe tbody tr th:only-of-type {\n",
       "        vertical-align: middle;\n",
       "    }\n",
       "\n",
       "    .dataframe tbody tr th {\n",
       "        vertical-align: top;\n",
       "    }\n",
       "\n",
       "    .dataframe thead th {\n",
       "        text-align: right;\n",
       "    }\n",
       "</style>\n",
       "<table border=\"1\" class=\"dataframe\">\n",
       "  <thead>\n",
       "    <tr style=\"text-align: right;\">\n",
       "      <th></th>\n",
       "      <th>ID</th>\n",
       "      <th>Nombre</th>\n",
       "      <th>edad</th>\n",
       "      <th>mencion_gaseosa</th>\n",
       "      <th>hobbies</th>\n",
       "      <th>Marca1</th>\n",
       "      <th>Marca2</th>\n",
       "      <th>Marca3</th>\n",
       "    </tr>\n",
       "  </thead>\n",
       "  <tbody>\n",
       "    <tr>\n",
       "      <th>0</th>\n",
       "      <td>1</td>\n",
       "      <td>Hector</td>\n",
       "      <td>20</td>\n",
       "      <td>[Coca-Cola, Colombiana, Pepsi]</td>\n",
       "      <td>[Musica, Correr]</td>\n",
       "      <td>Coca-Cola</td>\n",
       "      <td>Colombiana</td>\n",
       "      <td>Pepsi</td>\n",
       "    </tr>\n",
       "    <tr>\n",
       "      <th>1</th>\n",
       "      <td>2</td>\n",
       "      <td>Carolina</td>\n",
       "      <td>40</td>\n",
       "      <td>[Coca-Cola, Manzana Postobón, Sprite]</td>\n",
       "      <td>Cine</td>\n",
       "      <td>Coca-Cola</td>\n",
       "      <td>Manzana Postobón</td>\n",
       "      <td>Sprite</td>\n",
       "    </tr>\n",
       "    <tr>\n",
       "      <th>2</th>\n",
       "      <td>3</td>\n",
       "      <td>NaN</td>\n",
       "      <td>27</td>\n",
       "      <td>[Coca-Cola, Colombiana, Pepsi]</td>\n",
       "      <td>[Escribir, Viajar]</td>\n",
       "      <td>Coca-Cola</td>\n",
       "      <td>Colombiana</td>\n",
       "      <td>Pepsi</td>\n",
       "    </tr>\n",
       "    <tr>\n",
       "      <th>3</th>\n",
       "      <td>4</td>\n",
       "      <td>Camila</td>\n",
       "      <td>18</td>\n",
       "      <td>[Pepsi, Coca-Cola]</td>\n",
       "      <td>NaN</td>\n",
       "      <td>Pepsi</td>\n",
       "      <td>Coca-Cola</td>\n",
       "      <td>None</td>\n",
       "    </tr>\n",
       "    <tr>\n",
       "      <th>4</th>\n",
       "      <td>5</td>\n",
       "      <td>Jose</td>\n",
       "      <td>50</td>\n",
       "      <td>[Coca-Cola]</td>\n",
       "      <td>Programar</td>\n",
       "      <td>Coca-Cola</td>\n",
       "      <td>None</td>\n",
       "      <td>None</td>\n",
       "    </tr>\n",
       "  </tbody>\n",
       "</table>\n",
       "</div>"
      ],
      "text/plain": [
       "   ID    Nombre  edad                        mencion_gaseosa  \\\n",
       "0   1    Hector    20         [Coca-Cola, Colombiana, Pepsi]   \n",
       "1   2  Carolina    40  [Coca-Cola, Manzana Postobón, Sprite]   \n",
       "2   3       NaN    27         [Coca-Cola, Colombiana, Pepsi]   \n",
       "3   4    Camila    18                     [Pepsi, Coca-Cola]   \n",
       "4   5      Jose    50                            [Coca-Cola]   \n",
       "\n",
       "              hobbies     Marca1            Marca2  Marca3  \n",
       "0    [Musica, Correr]  Coca-Cola        Colombiana   Pepsi  \n",
       "1                Cine  Coca-Cola  Manzana Postobón  Sprite  \n",
       "2  [Escribir, Viajar]  Coca-Cola        Colombiana   Pepsi  \n",
       "3                 NaN      Pepsi         Coca-Cola    None  \n",
       "4           Programar  Coca-Cola              None    None  "
      ]
     },
     "execution_count": 26,
     "metadata": {},
     "output_type": "execute_result"
    }
   ],
   "source": [
    "datos.rename(columns={0:'Marca1', 1:'Marca2',2:'Marca3'}, inplace=True)\n",
    "datos"
   ]
  }
 ],
 "metadata": {
  "kernelspec": {
   "display_name": "Python 3",
   "language": "python",
   "name": "python3"
  },
  "language_info": {
   "codemirror_mode": {
    "name": "ipython",
    "version": 3
   },
   "file_extension": ".py",
   "mimetype": "text/x-python",
   "name": "python",
   "nbconvert_exporter": "python",
   "pygments_lexer": "ipython3",
   "version": "3.7.3"
  }
 },
 "nbformat": 4,
 "nbformat_minor": 2
}
